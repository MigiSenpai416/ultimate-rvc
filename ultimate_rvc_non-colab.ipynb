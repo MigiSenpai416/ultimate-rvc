{
 "cells": [
  {
   "cell_type": "markdown",
   "metadata": {
    "id": "kmyCzJVyCymN"
   },
   "source": [
    "Colab for [Ultimate RVC](https://github.com/JackismyShephard/ultimate-rvc)\n",
    "\n",
    "This Colab notebook will **help** you if you don’t have a GPU or if your PC isn’t very powerful.\n",
    "\n",
    "Simply click `Runtime` in the top navigation bar and `Run all`. Wait for the output of the final cell to show the public gradio url and click on it.\n",
    "\n",
    "NOTE: If Ultimate RVC is running too slowly with the default sharing method (gradio), consider instead selecting \"ngrok\" as sharing method.\n",
    "This method requires supplying an access token, which you can find on [ngrok](https://ngrok.com/) after creating a personal account.\n",
    "The ngrok link output in the final cell will lead you to a new site which will redirect you to Ultimate RVC."
   ]
  },
  {
   "cell_type": "code",
   "execution_count": 2,
   "metadata": {
    "id": "UyIRpsua5Jz-"
   },
   "outputs": [
    {
     "name": "stdout",
     "output_type": "stream",
     "text": [
      "time: 117 ms (started: 2025-05-26 03:41:52 +00:00)\n"
     ]
    }
   ],
   "source": [
    "# @title 0: Initialize notebook\n",
    "%pip install ipython-autotime pyngrok\n",
    "%load_ext autotime\n",
    "\n",
    "import codecs\n",
    "import os\n",
    "import time\n",
    "import urllib.request\n",
    "from pathlib import Path\n",
    "\n",
    "import ipywidgets as widgets\n",
    "from IPython.display import clear_output, display\n",
    "from pyngrok import ngrok\n",
    "\n",
    "clear_output()"
   ]
  },
  {
   "cell_type": "code",
   "execution_count": 3,
   "metadata": {
    "cellView": "form",
    "id": "aaokDv1VzpAX"
   },
   "outputs": [
    {
     "name": "stdout",
     "output_type": "stream",
     "text": [
      "time: 123 ms (started: 2025-05-26 03:41:53 +00:00)\n"
     ]
    }
   ],
   "source": [
    "# @title 1: Clone repository\n",
    "cloneing = codecs.decode(\n",
    "    \"uggcf://tvguho.pbz/WnpxvfzlFurcuneq/hygvzngr-eip.tvg\",\n",
    "    \"rot_13\",\n",
    ")\n",
    "\n",
    "!git clone $cloneing HRVC\n",
    "%cd /content/HRVC\n",
    "clear_output()"
   ]
  },
  {
   "cell_type": "code",
   "execution_count": 5,
   "metadata": {
    "cellView": "form",
    "id": "lVGNygIa0F_1"
   },
   "outputs": [
    {
     "name": "stdout",
     "output_type": "stream",
     "text": [
      "Hit:1 https://developer.download.nvidia.com/compute/cuda/repos/ubuntu2204/x86_64  InRelease\n",
      "Hit:2 http://archive.ubuntu.com/ubuntu jammy InRelease                         \u001b[0m\n",
      "Hit:3 http://security.ubuntu.com/ubuntu jammy-security InRelease               \u001b[0m\n",
      "Hit:4 http://archive.ubuntu.com/ubuntu jammy-updates InRelease                 \u001b[0m\u001b[33m\n",
      "Hit:5 http://archive.ubuntu.com/ubuntu jammy-backports InRelease\n",
      "Hit:6 https://ppa.launchpadcontent.net/deadsnakes/ppa/ubuntu jammy InRelease\n",
      "Reading package lists... Done\n",
      "Building dependency tree... Done\n",
      "Reading state information... Done\n",
      "56 packages can be upgraded. Run 'apt list --upgradable' to see them.\n",
      "Reading package lists... Done\n",
      "Building dependency tree... Done\n",
      "Reading state information... Done\n",
      "python3-dev is already the newest version (3.10.6-1~22.04.1).\n",
      "unzip is already the newest version (6.0-26ubuntu3.2).\n",
      "0 upgraded, 0 newly installed, 0 to remove and 56 not upgraded.\n",
      "downloading uv 0.6.3 x86_64-unknown-linux-gnu\n",
      "no checksums to verify\n",
      "installing to /root/.local/bin\n",
      "  uv\n",
      "  uvx\n",
      "everything's installed!\n",
      "WARNING: The following commands are shadowed by other commands in your PATH: uv uvx\n",
      "Downloading all files: 2.16GiB [00:43, 49.3MiB/s]                               \n",
      "Downloading https://github.com/zackees/static-sox/raw/main/bin/sox-14.4.2-linux.zip -> /content/HRVC/.venv/lib/python3.12/site-packages/static_sox/bin/linux.zip\n",
      "..........\n",
      "Download of https://github.com/zackees/static-sox/raw/main/bin/sox-14.4.2-linux.zip -> /content/HRVC/.venv/lib/python3.12/site-packages/static_sox/bin/linux.zip completed.\n",
      "Extracting /content/HRVC/.venv/lib/python3.12/site-packages/static_sox/bin/linux.zip -> /content/HRVC/.venv/lib/python3.12/site-packages/static_sox/bin\n",
      "Downloading Taylor Swift\u001b[33m...\u001b[0m\n",
      "\u001b[1m[\u001b[0m~\u001b[1m]\u001b[0m Downloading voice model \u001b[33m...\u001b[0m\n",
      "\u001b[1m[\u001b[0m~\u001b[1m]\u001b[0m Extracting zip file\u001b[33m...\u001b[0m\n",
      "Downloading James Hetfield\u001b[33m...\u001b[0m\n",
      "\u001b[1m[\u001b[0m~\u001b[1m]\u001b[0m Downloading voice model \u001b[33m...\u001b[0m\n",
      "\u001b[1m[\u001b[0m~\u001b[1m]\u001b[0m Extracting zip file\u001b[33m...\u001b[0m\n",
      "Downloading Eminem\u001b[33m...\u001b[0m\n",
      "\u001b[1m[\u001b[0m~\u001b[1m]\u001b[0m Downloading voice model \u001b[33m...\u001b[0m\n",
      "\u001b[1m[\u001b[0m~\u001b[1m]\u001b[0m Extracting zip file\u001b[33m...\u001b[0m\n",
      "Downloading https://github.com/zackees/ffmpeg_bins/raw/main/v5.0/linux.zip -> /content/HRVC/.venv/lib/python3.12/site-packages/static_ffmpeg/bin/linux.zip\n",
      "ffmpeg:  |################################| 100.0% - 0s\n",
      "\n",
      "Download of https://github.com/zackees/ffmpeg_bins/raw/main/v5.0/linux.zip -> /content/HRVC/.venv/lib/python3.12/site-packages/static_ffmpeg/bin/linux.zip completed.\n",
      "Extracting /content/HRVC/.venv/lib/python3.12/site-packages/static_ffmpeg/bin/linux.zip -> /content/HRVC/.venv/lib/python3.12/site-packages/static_ffmpeg/bin\n",
      "Downloading UVR-MDX-NET-Voc_FT.onnx\u001b[33m...\u001b[0m\n",
      "28.3kiB [00:00, 6.64MiB/s]                                                      \n",
      "100%|█████████████████████████████████████| 66.8M/66.8M [00:00<00:00, 78.2MiB/s]\n",
      "Downloading UVR_MDXNET_KARA_2.onnx\u001b[33m...\u001b[0m\n",
      "100%|█████████████████████████████████████| 52.8M/52.8M [00:00<00:00, 76.3MiB/s]\n",
      "Downloading Reverb_HQ_By_FoxJoy.onnx\u001b[33m...\u001b[0m\n",
      "100%|██████████████████████████████████████| 66.8M/66.8M [00:00<00:00, 113MiB/s]\n",
      "\u001b[2mResolved \u001b[1m195 packages\u001b[0m \u001b[2min 3ms\u001b[0m\u001b[0m\n",
      "\u001b[2mBytecode compiled \u001b[1m17198 files\u001b[0m \u001b[2min 9.38s\u001b[0m\u001b[0m\n",
      "time: 1min 36s (started: 2025-05-26 03:42:10 +00:00)\n"
     ]
    }
   ],
   "source": [
    "# @title 2: Install dependencies\n",
    "\n",
    "light = codecs.decode(\"uggcf://nfgeny.fu/hi/0.6.3/vafgnyy.fu\", \"rot_13\")\n",
    "inits = codecs.decode(\"./fep/hygvzngr_eip/pber/znva.cl\", \"rot_13\")\n",
    "prerelease = \"--prerelease if-necessary-or-explicit\"\n",
    "\n",
    "!apt update\n",
    "!apt install -y python3-dev unzip\n",
    "!curl -LsSf $light | sh\n",
    "\n",
    "os.environ[\"PATH\"] = f\"/root/.local/bin:{os.environ['PATH']}\"\n",
    "os.environ[\"URVC_CONSOLE_LOG_LEVEL\"] = \"WARNING\"\n",
    "!uv run -q $prerelease $inits\n",
    "!uv add $prerelease matplotlib-inline==0.1.7\n",
    "#clear_output()"
   ]
  },
  {
   "cell_type": "code",
   "execution_count": null,
   "metadata": {
    "cellView": "form",
    "id": "lVGNygIa0F_2"
   },
   "outputs": [
    {
     "name": "stdout",
     "output_type": "stream",
     "text": [
      "\u001b[2mBytecode compiled \u001b[1m17198 files\u001b[0m \u001b[2min 9.45s\u001b[0m\u001b[0m\n",
      "theme_schema%401.2.2.json: 100%|███████████| 14.7k/14.7k [00:00<00:00, 54.4MB/s]\n",
      "* Running on local URL:  http://127.0.0.1:7860\n",
      "* Running on public URL: https://2b15bd86250250e521.gradio.live\n",
      "\n",
      "This share link expires in 1 week. For free permanent hosting and GPU upgrades, run `gradio deploy` from the terminal in the working directory to deploy to Hugging Face Spaces (https://huggingface.co/spaces)\n",
      "100%|█████████████████████████████████████████████| 7/7 [00:20<00:00,  2.94s/it]\n",
      "100%|█████████████████████████████████████████████| 7/7 [00:09<00:00,  1.37s/it]\n",
      "Traceback (most recent call last):\n",
      "  File \"/content/HRVC/.venv/lib/python3.12/site-packages/gradio/queueing.py\", line 625, in process_events\n",
      "    response = await route_utils.call_process_api(\n",
      "               ^^^^^^^^^^^^^^^^^^^^^^^^^^^^^^^^^^^\n",
      "  File \"/content/HRVC/.venv/lib/python3.12/site-packages/gradio/route_utils.py\", line 322, in call_process_api\n",
      "    output = await app.get_blocks().process_api(\n",
      "             ^^^^^^^^^^^^^^^^^^^^^^^^^^^^^^^^^^^\n",
      "  File \"/content/HRVC/.venv/lib/python3.12/site-packages/gradio/blocks.py\", line 2136, in process_api\n",
      "    result = await self.call_function(\n",
      "             ^^^^^^^^^^^^^^^^^^^^^^^^^\n",
      "  File \"/content/HRVC/.venv/lib/python3.12/site-packages/gradio/blocks.py\", line 1662, in call_function\n",
      "    prediction = await anyio.to_thread.run_sync(  # type: ignore\n",
      "                 ^^^^^^^^^^^^^^^^^^^^^^^^^^^^^^^^^^^^^^^^^^^^^^^\n",
      "  File \"/content/HRVC/.venv/lib/python3.12/site-packages/anyio/to_thread.py\", line 56, in run_sync\n",
      "    return await get_async_backend().run_sync_in_worker_thread(\n",
      "           ^^^^^^^^^^^^^^^^^^^^^^^^^^^^^^^^^^^^^^^^^^^^^^^^^^^^\n",
      "  File \"/content/HRVC/.venv/lib/python3.12/site-packages/anyio/_backends/_asyncio.py\", line 2470, in run_sync_in_worker_thread\n",
      "    return await future\n",
      "           ^^^^^^^^^^^^\n",
      "  File \"/content/HRVC/.venv/lib/python3.12/site-packages/anyio/_backends/_asyncio.py\", line 967, in run\n",
      "    result = context.run(func, *args)\n",
      "             ^^^^^^^^^^^^^^^^^^^^^^^^\n",
      "  File \"/content/HRVC/.venv/lib/python3.12/site-packages/gradio/utils.py\", line 883, in wrapper\n",
      "    response = f(*args, **kwargs)\n",
      "               ^^^^^^^^^^^^^^^^^^\n",
      "  File \"/content/HRVC/src/ultimate_rvc/web/common.py\", line 75, in _wrapped_fn\n",
      "    raise gr.Error(str(msg)) from None\n",
      "gradio.exceptions.Error: 'No dataset provided.'\n",
      "100%|█████████████████████████████████████████████| 7/7 [00:09<00:00,  1.29s/it]\n",
      "\u001b[1m[\u001b[0m~\u001b[1m]\u001b[0m Extracting pitch features\u001b[33m...\u001b[0m\n"
     ]
    }
   ],
   "source": [
    "# @title 3: Run Ultimate RVC\n",
    "# @markdown  #### Choose a sharing method:\n",
    "\n",
    "method = \"gradio\"  # @param [\"gradio\",  \"ngrok\", \"cloudflared\",\"localtunnel\"]\n",
    "ngrok_token = \"\"  # @param {type:\"string\"}\n",
    "runpice = codecs.decode(\"./fep/hygvzngr_eip/jro/znva.cl\", \"rot_13\")\n",
    "\n",
    "if method == \"gradio\":\n",
    "    !uv run $prerelease $runpice --share\n",
    "elif method == \"ngrok\":\n",
    "    try:\n",
    "        ngrok.set_auth_token(ngrok_token)\n",
    "        ngrok.kill()\n",
    "        tunnel = ngrok.connect(6969)\n",
    "        print(f\"Ngrok URL: {tunnel.public_url}\")\n",
    "        !uv run $prerelease $runpice --listen-port 6969\n",
    "    except Exception as e:\n",
    "        print(f\"Error starting ngrok: {e}\")\n",
    "elif method == \"cloudflared\":\n",
    "    !curl -LO https://github.com/cloudflare/cloudflared/releases/latest/download/cloudflared-linux-amd64.deb\n",
    "    !dpkg -i cloudflared-linux-amd64.deb\n",
    "    clear_output()\n",
    "    !rm -rf nohup.out\n",
    "    !nohup cloudflared tunnel --url localhost:6969 &\n",
    "    clear_output()\n",
    "    time.sleep(10)\n",
    "    cloudflare_url = !grep -oE \"https://[a-zA-Z0-9.-]+\\.trycloudflare\\.com\" nohup.out\n",
    "    print(f\"URVC Public URL: {cloudflare_url}\")\n",
    "    !uv run $prerelease $runpice --listen-port 6969\n",
    "elif method == \"localtunnel\":\n",
    "    !npm install -g localtunnel &>/dev/null\n",
    "    Path(\"url.txt\").open(\"w\", encoding=\"utf-8\").close()\n",
    "    !lt --port 6969 >> url.txt 2>&1 &\n",
    "    time.sleep(2)\n",
    "    endpoint_ip = urllib.request.urlopen(\"https://ipv4.icanhazip.com\").read().decode(\"utf8\").strip(\"\\n\")\n",
    "    tunnel_url = (\n",
    "        Path(\"url.txt\")\n",
    "        .read_text(encoding=\"utf-8\")\n",
    "        .replace(\"your url is: \", \"\")\n",
    "    )\n",
    "    print(f\"Share Link: {tunnel_url}\")\n",
    "    password_endpoint_widget = widgets.Text(\n",
    "        value=endpoint_ip,\n",
    "        description=\"Password IP:\",\n",
    "        disabled=True,\n",
    "    )\n",
    "    display(password_endpoint_widget)\n",
    "    !uv run $prerelease $runpice --listen-port 6969"
   ]
  }
 ],
 "metadata": {
  "accelerator": "GPU",
  "colab": {
   "gpuType": "T4",
   "provenance": []
  },
  "kernelspec": {
   "display_name": "Python 3 (ipykernel)",
   "language": "python",
   "name": "python3"
  },
  "language_info": {
   "codemirror_mode": {
    "name": "ipython",
    "version": 3
   },
   "file_extension": ".py",
   "mimetype": "text/x-python",
   "name": "python",
   "nbconvert_exporter": "python",
   "pygments_lexer": "ipython3",
   "version": "3.11.11"
  }
 },
 "nbformat": 4,
 "nbformat_minor": 4
}
